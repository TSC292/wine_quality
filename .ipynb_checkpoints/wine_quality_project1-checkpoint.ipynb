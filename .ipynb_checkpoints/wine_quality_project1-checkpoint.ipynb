{
 "cells": [
  {
   "cell_type": "markdown",
   "id": "64a9d9e4-5201-4650-9729-de1885e4cb51",
   "metadata": {},
   "source": [
    "## Project Title: Wine Quality Predictive Model\n",
    "**Description**: Project performed for personal development of data analysis and predictive modelling skills. The dataset is regarding wine quality. The dataset is thought to be suited to regression and classification.<br>\n",
    "**Version**: 0.01<br>\n",
    "**Author**: Tom SC<br>\n",
    "**Create Date**: 10-Aug-2021<br>\n",
    "**Input Data**: winequality-red.csv, winequality-white.csv"
   ]
  },
  {
   "cell_type": "code",
   "execution_count": null,
   "id": "18423a32-b33a-44c5-b465-2b250596d89a",
   "metadata": {},
   "outputs": [],
   "source": []
  }
 ],
 "metadata": {
  "kernelspec": {
   "display_name": "Python 3",
   "language": "python",
   "name": "python3"
  },
  "language_info": {
   "codemirror_mode": {
    "name": "ipython",
    "version": 3
   },
   "file_extension": ".py",
   "mimetype": "text/x-python",
   "name": "python",
   "nbconvert_exporter": "python",
   "pygments_lexer": "ipython3",
   "version": "3.8.10"
  }
 },
 "nbformat": 4,
 "nbformat_minor": 5
}
